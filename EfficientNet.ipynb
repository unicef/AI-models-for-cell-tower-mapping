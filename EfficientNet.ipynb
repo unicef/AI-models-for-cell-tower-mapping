{
 "cells": [
  {
   "cell_type": "code",
   "execution_count": null,
   "id": "9a76548f",
   "metadata": {},
   "outputs": [],
   "source": [
    "from models.efficientnet import EfficientNet\n",
    "\n",
    "from data.dataset import create_dataloader\n",
    "from data.transform import get_train_transform, get_validation_transform\n",
    "\n",
    "from losses.poly_loss import PolyLoss\n",
    "from utils.plots import plot_stats, plot_roc_curve\n",
    "from train import train, validate, predict\n",
    "\n",
    "import torch\n",
    "from torch import optim\n",
    "\n",
    "import numpy as np\n",
    "from sklearn.metrics import classification_report\n",
    "\n",
    "import os"
   ]
  },
  {
   "cell_type": "markdown",
   "id": "3e7f52fe",
   "metadata": {},
   "source": [
    "# Dataloaders"
   ]
  },
  {
   "cell_type": "code",
   "execution_count": null,
   "id": "bd591873",
   "metadata": {},
   "outputs": [],
   "source": [
    "train_data_dir = \"dataset/train\"\n",
    "val_data_dir = \"dataset/validation\"\n",
    "test_data_dir = \"dataset/test\"\n",
    "\n",
    "image_size = (256, 256)\n",
    "mean = [0.485, 0.456, 0.406] \n",
    "std = [0.229, 0.224, 0.225]\n",
    "\n",
    "batch_size = 8\n",
    "num_workers = 2"
   ]
  },
  {
   "cell_type": "code",
   "execution_count": null,
   "id": "68a5dad8",
   "metadata": {},
   "outputs": [],
   "source": [
    "train_dataloader = create_dataloader(data_dir = train_data_dir, \n",
    "                                     batch_size = batch_size, \n",
    "                                     image_size = image_size, \n",
    "                                     mean = mean, \n",
    "                                     std = std, \n",
    "                                     num_workers = 2, \n",
    "                                     train = True)\n",
    "\n",
    "val_dataloader = create_dataloader(data_dir = val_data_dir, \n",
    "                                     batch_size = batch_size,\n",
    "                                     image_size = image_size,\n",
    "                                     mean = mean,\n",
    "                                     std = std,\n",
    "                                     train = False)\n",
    "\n",
    "test_dataloader = create_dataloader(data_dir = test_data_dir, \n",
    "                                     batch_size = batch_size, \n",
    "                                     image_size = image_size, \n",
    "                                     mean = mean, \n",
    "                                     std = std, \n",
    "                                     train = False)"
   ]
  },
  {
   "cell_type": "markdown",
   "id": "0730b0b4",
   "metadata": {},
   "source": [
    "# Model"
   ]
  },
  {
   "cell_type": "code",
   "execution_count": null,
   "id": "02165f57",
   "metadata": {},
   "outputs": [],
   "source": [
    "# training params\n",
    "learning_rate = 0.001\n",
    "epochs = 3\n",
    "\n",
    "# model params\n",
    "efficientnet_version = 'b3'\n",
    "pretrained = True\n",
    "num_classes = 2\n",
    "\n",
    "weights_folder = \"weights\"\n",
    "os.makedirs(weights_folder, exist_ok = True)"
   ]
  },
  {
   "cell_type": "code",
   "execution_count": null,
   "id": "8a6c26e5",
   "metadata": {},
   "outputs": [],
   "source": [
    "model = EfficientNet(version = efficientnet_version,\n",
    "                     pretrained = pretrained,\n",
    "                     num_classes = num_classes)\n",
    "\n",
    "device = 'cuda' if torch.cuda.is_available() else 'cpu'\n",
    "model.to(device)\n",
    "\n",
    "total_trainable_params = sum([p.numel() for p in model.parameters() if p.requires_grad])\n",
    "\n",
    "print(\"Trainable params:\", total_trainable_params)"
   ]
  },
  {
   "cell_type": "code",
   "execution_count": null,
   "id": "02bcdb85",
   "metadata": {},
   "outputs": [],
   "source": [
    "optimizer = optim.Adam(model.parameters(),\n",
    "                       lr = learning_rate)\n",
    "\n",
    "criterion = PolyLoss(softmax=True)"
   ]
  },
  {
   "cell_type": "markdown",
   "id": "4942689f",
   "metadata": {},
   "source": [
    "# Train"
   ]
  },
  {
   "cell_type": "code",
   "execution_count": null,
   "id": "5487d568",
   "metadata": {},
   "outputs": [],
   "source": [
    "history = train(epochs = epochs, \n",
    "                model = model, \n",
    "                train_dataloader = train_dataloader, \n",
    "                val_dataloader = val_dataloader, \n",
    "                optimizer = optimizer, \n",
    "                criterion = criterion, \n",
    "                device = device,\n",
    "                save_folder = weights_folder)\n",
    "\n",
    "train_loss = history[\"train_loss\"] \n",
    "valid_loss = history[\"val_loss\"]\n",
    "train_acc = history[\"train_acc\"]\n",
    "valid_acc = history[\"val_acc\"]"
   ]
  },
  {
   "cell_type": "markdown",
   "id": "d95991ec",
   "metadata": {},
   "source": [
    "### Plot train / val metrics"
   ]
  },
  {
   "cell_type": "code",
   "execution_count": null,
   "id": "505c7bf4",
   "metadata": {},
   "outputs": [],
   "source": [
    "plot_stats(range(epochs), train_loss, valid_loss, train_acc, valid_acc)"
   ]
  },
  {
   "cell_type": "markdown",
   "id": "44d7c401",
   "metadata": {},
   "source": [
    "### ROC curve"
   ]
  },
  {
   "cell_type": "code",
   "execution_count": null,
   "id": "4d312191",
   "metadata": {},
   "outputs": [],
   "source": [
    "# predict\n",
    "preds, gts = predict(model, test_dataloader, device, return_probs = True)\n",
    "preds, gts = np.array(preds), np.array(gts)\n",
    "\n",
    "# plot ROC curve\n",
    "plot_roc_curve(gts, preds[:,0], pos_label = 0)"
   ]
  },
  {
   "cell_type": "markdown",
   "id": "113a7974",
   "metadata": {},
   "source": [
    "### Confusion matrix"
   ]
  },
  {
   "cell_type": "code",
   "execution_count": null,
   "id": "abb65c00",
   "metadata": {},
   "outputs": [],
   "source": [
    "from sklearn.metrics import ConfusionMatrixDisplay\n",
    "\n",
    "ConfusionMatrixDisplay.from_predictions(gts, \n",
    "                                        np.argmax(preds, axis = 1), \n",
    "                                        display_labels = ['cell', 'no_cell'])"
   ]
  },
  {
   "cell_type": "markdown",
   "id": "c21bce76",
   "metadata": {},
   "source": [
    "### Classification report"
   ]
  },
  {
   "cell_type": "code",
   "execution_count": null,
   "id": "9286bdb9",
   "metadata": {},
   "outputs": [],
   "source": [
    "print(classification_report(gts, \n",
    "                            np.argmax(preds, axis = 1), \n",
    "                            target_names=['cell', 'no_cell'], \n",
    "                            digits=3))"
   ]
  },
  {
   "cell_type": "markdown",
   "id": "3056217b",
   "metadata": {},
   "source": [
    "# Load trained model"
   ]
  },
  {
   "cell_type": "code",
   "execution_count": null,
   "id": "801ca6cd",
   "metadata": {},
   "outputs": [],
   "source": [
    "model = EfficientNet(version = 'b3',\n",
    "                             pretrained = True,\n",
    "                             num_classes = 2)\n",
    "\n",
    "checkpoint = torch.load('weights/best_model_on_val.pth')\n",
    "model.load_state_dict(checkpoint['model'])\n",
    "\n",
    "device = 'cuda' if torch.cuda.is_available() else 'cpu'\n",
    "model.to(device)"
   ]
  },
  {
   "cell_type": "markdown",
   "id": "758e5b73",
   "metadata": {},
   "source": [
    "### Validate"
   ]
  },
  {
   "cell_type": "code",
   "execution_count": null,
   "id": "fdd54062",
   "metadata": {},
   "outputs": [],
   "source": [
    "loss, acc = validate(model, test_dataloader, criterion, device)\n",
    "\n",
    "print('Accuracy: {:.4f}'.format(acc)) \n",
    "print('Loss: {:.4f}'.format(loss))"
   ]
  },
  {
   "cell_type": "markdown",
   "id": "ba252b65",
   "metadata": {},
   "source": [
    "### ROC curve"
   ]
  },
  {
   "cell_type": "code",
   "execution_count": null,
   "id": "4315cc35",
   "metadata": {},
   "outputs": [],
   "source": [
    "# predict\n",
    "preds, gts = predict(model, test_dataloader, device, return_probs = True)\n",
    "preds, gts = np.array(preds), np.array(gts)\n",
    "\n",
    "# plot ROC curve\n",
    "plot_roc_curve(gts, preds[:,0], pos_label = 0)"
   ]
  },
  {
   "cell_type": "markdown",
   "id": "1154e980",
   "metadata": {},
   "source": [
    "### Confusion matrix"
   ]
  },
  {
   "cell_type": "code",
   "execution_count": null,
   "id": "7ea7ed5a",
   "metadata": {},
   "outputs": [],
   "source": [
    "from sklearn.metrics import ConfusionMatrixDisplay\n",
    "\n",
    "ConfusionMatrixDisplay.from_predictions(gts, \n",
    "                                        np.argmax(preds, axis = 1), \n",
    "                                        display_labels = ['cell', 'no_cell'])"
   ]
  },
  {
   "cell_type": "markdown",
   "id": "92782385",
   "metadata": {},
   "source": [
    "### Classification report"
   ]
  },
  {
   "cell_type": "code",
   "execution_count": null,
   "id": "7a0c0f15",
   "metadata": {},
   "outputs": [],
   "source": [
    "print(classification_report(gts, \n",
    "                            np.argmax(preds, axis = 1), \n",
    "                            target_names=['cell', 'no_cell'], \n",
    "                            digits=3))"
   ]
  }
 ],
 "metadata": {
  "kernelspec": {
   "display_name": "Python 3 (ipykernel)",
   "language": "python",
   "name": "python3"
  },
  "language_info": {
   "codemirror_mode": {
    "name": "ipython",
    "version": 3
   },
   "file_extension": ".py",
   "mimetype": "text/x-python",
   "name": "python",
   "nbconvert_exporter": "python",
   "pygments_lexer": "ipython3",
   "version": "3.9.10"
  }
 },
 "nbformat": 4,
 "nbformat_minor": 5
}
